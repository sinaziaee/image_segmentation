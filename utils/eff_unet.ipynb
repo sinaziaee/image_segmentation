{
 "cells": [
  {
   "cell_type": "code",
   "execution_count": 2,
   "metadata": {},
   "outputs": [],
   "source": [
    "import torch\n",
    "import torch.nn as nn\n",
    "import torch.nn.functional as F"
   ]
  },
  {
   "cell_type": "code",
   "execution_count": 3,
   "metadata": {},
   "outputs": [],
   "source": [
    "class DecoderBlock(nn.Module):\n",
    "    def __init__(self, in_channels, out_channels):\n",
    "        super().__init__()\n",
    "        self.double_conv = nn.Sequential(\n",
    "            nn.Conv2d(in_channels=in_channels, out_channels=out_channels, kernel_size=3, padding=1),\n",
    "            nn.ReLU(),\n",
    "            nn.BatchNorm2d(num_features= out_channels),\n",
    "            nn.Conv2d(in_channels=out_channels, out_channels=out_channels, kernel_size=3, padding=1),\n",
    "            nn.ReLU(),\n",
    "            nn.BatchNorm2d(num_features=out_channels)\n",
    "        )\n",
    "        \n",
    "    def forward(self, x):\n",
    "        return self.double_conv(x)"
   ]
  },
  {
   "cell_type": "code",
   "execution_count": null,
   "metadata": {},
   "outputs": [],
   "source": [
    "class MBConvBlock(nn.Module):\n",
    "    def __init__(self, in_channels, out_channels, kernel_size, stride=1, expansion_rate=6, se=True):\n",
    "        super().__init__()\n",
    "        \n",
    "        expansion_channels = expansion_rate * in_channels\n",
    "        se_channels = max(1, int(in_channels * 0.25))\n",
    "        \n",
    "        # same padding and only kernel sizes of 3 and 5\n",
    "        if kernel_size == 3:\n",
    "            padding = 1\n",
    "        elif kernel_size == 5:\n",
    "            padding = 2\n",
    "        else:\n",
    "            assert \"-- MyError --: unsupported kernel size\"\n",
    "        \n",
    "        # Expansion\n",
    "        if expansion_rate != 1:\n",
    "            self.expand_conv = nn.Sequential(\n",
    "                nn.Conv2d(in_channels=in_channels, out_channels=expansion_channels, kernel_size=1, bias=False),\n",
    "                nn.BatchNorm2d(expansion_channels), \n",
    "                nn.ReLU()\n",
    "        )\n",
    "        # Depthwise convolution\n",
    "        self.depthwise_conv = nn.Sequential(\n",
    "            nn.Conv2d(in_channels=expansion_channels, out_channels=expansion_channels, kernel_size=kernel_size,\n",
    "                        stride=stride, padding=padding, groups=expansion_channels, bias=False),\n",
    "            nn.BatchNorm2d(expansion_channels),\n",
    "            nn.ReLU()\n",
    "        )\n",
    "        # Squeeze and excitation block\n",
    "        if se:\n",
    "            self.se_block = nn.Sequential(\n",
    "                nn.AdaptiveAvgPool2d((1, 1)),\n",
    "                nn.Conv2d(in_channels=expansion_channels, out_channels=se_channels, kernel_size=1, bias=)\n",
    "            )\n",
    "        \n",
    "        \n",
    "    \n",
    "    def forward(self, x):\n",
    "        pass"
   ]
  }
 ],
 "metadata": {
  "kernelspec": {
   "display_name": "test",
   "language": "python",
   "name": "python3"
  },
  "language_info": {
   "codemirror_mode": {
    "name": "ipython",
    "version": 3
   },
   "file_extension": ".py",
   "mimetype": "text/x-python",
   "name": "python",
   "nbconvert_exporter": "python",
   "pygments_lexer": "ipython3",
   "version": "3.11.5"
  }
 },
 "nbformat": 4,
 "nbformat_minor": 2
}
